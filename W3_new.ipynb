{
 "cells": [
  {
   "cell_type": "code",
   "execution_count": null,
   "metadata": {},
   "outputs": [],
   "source": [
    "import numpy as np\n",
    "import pandas as pd\n",
    "import matplotlib.pyplot as plt\n",
    "import seaborn as sns\n",
    "from sklearn.preprocessing import LabelEncoder, OrdinalEncoder\n",
    "from sklearn.linear_model import LogisticRegression\n",
    "from sklearn.metrics import roc_auc_score, accuracy_score\n",
    "from sklearn.model_selection import train_test_split\n",
    "from sklearn.preprocessing import StandardScaler\n",
    "from sklearn.pipeline import make_pipeline\n",
    "from sklearn.multioutput import MultiOutputClassifier\n",
    "%matplotlib inline"
   ]
  },
  {
   "cell_type": "code",
   "execution_count": null,
   "metadata": {},
   "outputs": [],
   "source": [
    "X = pd.read_csv('training_set_features.csv')\n",
    "X"
   ]
  },
  {
   "cell_type": "code",
   "execution_count": null,
   "metadata": {},
   "outputs": [],
   "source": [
    "Y = pd.read_csv('training_set_labels.csv')\n",
    "Y"
   ]
  },
  {
   "cell_type": "code",
   "execution_count": null,
   "metadata": {},
   "outputs": [],
   "source": [
    "Z = Y\n",
    "Z.drop(['respondent_id'], axis = 1, inplace = True)\n",
    "data = pd.concat([X,Z],axis=1)"
   ]
  },
  {
   "cell_type": "code",
   "execution_count": null,
   "metadata": {},
   "outputs": [],
   "source": [
    "data.isnull().sum()"
   ]
  },
  {
   "cell_type": "code",
   "execution_count": null,
   "metadata": {},
   "outputs": [],
   "source": [
    "data.drop(['health_insurance', 'employment_industry', 'employment_occupation'], axis=1, inplace = True)"
   ]
  },
  {
   "cell_type": "markdown",
   "metadata": {},
   "source": [
    "# EDA & cleaning"
   ]
  },
  {
   "cell_type": "code",
   "execution_count": null,
   "metadata": {},
   "outputs": [],
   "source": [
    "print(Y['xyz_vaccine'].value_counts())\n",
    "print(Y['seasonal_vaccine'].value_counts())"
   ]
  },
  {
   "cell_type": "code",
   "execution_count": null,
   "metadata": {},
   "outputs": [],
   "source": [
    "fig, ax = plt.subplots(2,1)\n",
    "\n",
    "sns.countplot(Y, y='xyz_vaccine', ax=ax[0])\n",
    "sns.countplot(Y, y='seasonal_vaccine', ax=ax[1])\n",
    "\n",
    "plt.tight_layout()"
   ]
  },
  {
   "cell_type": "code",
   "execution_count": null,
   "metadata": {},
   "outputs": [],
   "source": [
    "data['hhs_geo_region'].unique()"
   ]
  },
  {
   "cell_type": "code",
   "execution_count": null,
   "metadata": {},
   "outputs": [],
   "source": [
    "non_numeric_col = data.select_dtypes(include='object').columns\n",
    "data[non_numeric_col].head()"
   ]
  },
  {
   "cell_type": "code",
   "execution_count": null,
   "metadata": {},
   "outputs": [],
   "source": [
    "for col in data.columns:\n",
    "    if data[col].isnull().sum() and data[col].dtypes != 'object':\n",
    "        data.loc[(X[col].isnull()), col] = data[col].median()\n",
    "for col in data.columns:\n",
    "    if data[col].isnull().sum() and data[col].dtypes == 'object':\n",
    "        data.loc[(data[col].isnull()), col] = data[col].mode().max()"
   ]
  },
  {
   "cell_type": "code",
   "execution_count": null,
   "metadata": {},
   "outputs": [],
   "source": [
    "data.isnull().sum()"
   ]
  },
  {
   "cell_type": "code",
   "execution_count": null,
   "metadata": {},
   "outputs": [],
   "source": [
    "LE = LabelEncoder()\n",
    "for col in non_numeric_col:\n",
    "    data[col] = LE.fit_transform(data[col])"
   ]
  },
  {
   "cell_type": "code",
   "execution_count": null,
   "metadata": {},
   "outputs": [],
   "source": [
    "corr=data.corr()\n",
    "\n",
    "g = sns.heatmap(corr, square=True, linewidths=1, annot=True)\n",
    "g.figure.set_size_inches(30,25)\n",
    "    \n",
    "plt.show()"
   ]
  },
  {
   "cell_type": "code",
   "execution_count": null,
   "metadata": {},
   "outputs": [],
   "source": [
    "data['cleanliness'] =  data['behavioral_antiviral_meds']+ data['behavioral_avoidance']+\\\n",
    "                        data['behavioral_face_mask']+data['behavioral_wash_hands']+\\\n",
    "                       data['behavioral_large_gatherings'] + data['behavioral_outside_home']+\\\n",
    "                       data['behavioral_touch_face']"
   ]
  },
  {
   "cell_type": "code",
   "execution_count": null,
   "metadata": {},
   "outputs": [],
   "source": [
    "data['opinion'] = data['opinion_xyz_vacc_effective'] + data['opinion_xyz_risk']+\\\n",
    "                  data['opinion_xyz_sick_from_vacc'] + data['opinion_seas_vacc_effective']+\\\n",
    "                  data['opinion_seas_risk'] + data['opinion_seas_sick_from_vacc']"
   ]
  },
  {
   "cell_type": "code",
   "execution_count": null,
   "metadata": {},
   "outputs": [],
   "source": [
    "sns.boxplot(x='cleanliness', y='opinion', data=data)"
   ]
  },
  {
   "cell_type": "code",
   "execution_count": null,
   "metadata": {},
   "outputs": [],
   "source": [
    "data.drop(['race','child_under_6_months','opinion_xyz_sick_from_vacc','opinion_seas_sick_from_vacc','household_adults','behavioral_antiviral_meds','behavioral_large_gatherings', 'behavioral_outside_home', 'behavioral_antiviral_meds','marital_status',\n",
    "           'behavioral_avoidance','behavioral_face_mask','income_poverty','hhs_geo_region','employment_status','education','census_msa'],axis=1,inplace = True)\n",
    "data.head()"
   ]
  },
  {
   "cell_type": "code",
   "execution_count": null,
   "metadata": {},
   "outputs": [],
   "source": [
    "corr=data.corr()\n",
    "\n",
    "g = sns.heatmap(corr, square=True, linewidths=1, annot=True)\n",
    "g.figure.set_size_inches(30,25)\n",
    "    \n",
    "plt.show()"
   ]
  },
  {
   "cell_type": "code",
   "execution_count": null,
   "metadata": {},
   "outputs": [],
   "source": [
    "Y_label = Y[['xyz_vaccine', 'seasonal_vaccine']]"
   ]
  },
  {
   "cell_type": "code",
   "execution_count": null,
   "metadata": {},
   "outputs": [],
   "source": [
    "data.drop(['respondent_id','xyz_vaccine','seasonal_vaccine'],axis=1,inplace = True)\n",
    "frames =[data,Y_label]\n",
    "data = pd.concat(frames,axis=1)\n",
    "\n",
    "data.head()"
   ]
  },
  {
   "cell_type": "code",
   "execution_count": null,
   "metadata": {},
   "outputs": [],
   "source": [
    "features = data.columns[:-2]\n",
    "print(features)\n",
    "labels = ['xyz_vaccine', 'seasonal_vaccine']"
   ]
  },
  {
   "cell_type": "markdown",
   "metadata": {},
   "source": [
    "# Model"
   ]
  },
  {
   "cell_type": "code",
   "execution_count": null,
   "metadata": {},
   "outputs": [],
   "source": [
    "X_train, X_eval, y_train, y_eval = train_test_split(data[features], data[labels], test_size=0.2, shuffle=True)"
   ]
  },
  {
   "cell_type": "code",
   "execution_count": null,
   "metadata": {},
   "outputs": [],
   "source": [
    "X_train.columns"
   ]
  },
  {
   "cell_type": "code",
   "execution_count": null,
   "metadata": {},
   "outputs": [],
   "source": [
    "y_train"
   ]
  },
  {
   "cell_type": "code",
   "execution_count": null,
   "metadata": {},
   "outputs": [],
   "source": [
    "def transform_test(Test_X):\n",
    "    Test_X.drop(['respondent_id','health_insurance','employment_industry','employment_occupation'],axis=1,inplace = True)\n",
    "            \n",
    "    d = Test_X\n",
    "    str_cols = d.select_dtypes(include = 'object').columns\n",
    "\n",
    "    for col in Test_X.columns:\n",
    "        if Test_X[col].isnull().sum() and Test_X[col].dtypes != 'object':\n",
    "            Test_X.loc[(Test_X[col].isnull()), col] = Test_X[col].median()\n",
    "    for col in Test_X.columns:\n",
    "        if Test_X[col].isnull().sum() and Test_X[col].dtypes == 'object':\n",
    "            Test_X.loc[(Test_X[col].isnull()), col] = Test_X[col].mode().max()\n",
    "\n",
    "    LE = LabelEncoder()\n",
    "    for col in str_cols:\n",
    "        Test_X[col] = LE.fit_transform(Test_X[col]) \n",
    "            \n",
    "    data = d\n",
    "\n",
    "    data['cleanliness'] =  data['behavioral_antiviral_meds']+ data['behavioral_avoidance']+\\\n",
    "                        data['behavioral_face_mask']+data['behavioral_wash_hands']+\\\n",
    "                       data['behavioral_large_gatherings'] + data['behavioral_outside_home']+\\\n",
    "                       data['behavioral_touch_face']\n",
    "    data['opinion'] = data['opinion_xyz_vacc_effective'] + data['opinion_xyz_risk']+\\\n",
    "                  data['opinion_xyz_sick_from_vacc'] + data['opinion_seas_vacc_effective']+\\\n",
    "                  data['opinion_seas_risk'] + data['opinion_seas_sick_from_vacc']\n",
    "\n",
    "    data.drop(['race','child_under_6_months','opinion_xyz_sick_from_vacc','opinion_seas_sick_from_vacc','household_adults','behavioral_antiviral_meds','behavioral_large_gatherings', 'behavioral_outside_home', 'behavioral_antiviral_meds','marital_status',\n",
    "           'behavioral_avoidance','behavioral_face_mask','income_poverty','hhs_geo_region','employment_status','education','census_msa'],axis=1,inplace = True)\n",
    "    \n",
    "    Test_X = data\n",
    "    return Test_X"
   ]
  },
  {
   "cell_type": "code",
   "execution_count": null,
   "metadata": {},
   "outputs": [],
   "source": [
    "Test_X = pd.read_csv('test_set_features.csv')\n",
    "Test_X"
   ]
  },
  {
   "cell_type": "code",
   "execution_count": null,
   "metadata": {},
   "outputs": [],
   "source": [
    "Test_X = transform_test(Test_X)\n",
    "Test_X.isnull().sum()"
   ]
  },
  {
   "cell_type": "code",
   "execution_count": null,
   "metadata": {},
   "outputs": [],
   "source": [
    "Test_X.columns"
   ]
  },
  {
   "cell_type": "code",
   "execution_count": null,
   "metadata": {},
   "outputs": [],
   "source": [
    "estimators=MultiOutputClassifier(\n",
    "    estimator=LogisticRegression()\n",
    ")\n",
    "\n",
    "pipe = make_pipeline(StandardScaler(), estimators)"
   ]
  },
  {
   "cell_type": "code",
   "execution_count": null,
   "metadata": {},
   "outputs": [],
   "source": [
    "pipe.fit(X_train, y_train)"
   ]
  },
  {
   "cell_type": "code",
   "execution_count": null,
   "metadata": {},
   "outputs": [],
   "source": [
    "pred = pipe.predict_proba(X_eval)\n",
    "pred"
   ]
  },
  {
   "cell_type": "code",
   "execution_count": null,
   "metadata": {},
   "outputs": [],
   "source": [
    "y_preds = pd.DataFrame(\n",
    "    {\n",
    "        \"xyz_vaccine\": pred[0][:, 1],\n",
    "        \"seasonal_vaccine\": pred[1][:, 1],\n",
    "    },\n",
    "    index = y_eval.index\n",
    ")\n",
    "print(y_preds.shape)\n",
    "y_preds.head()"
   ]
  },
  {
   "cell_type": "code",
   "execution_count": null,
   "metadata": {},
   "outputs": [],
   "source": [
    "print(roc_auc_score(y_eval, y_preds))"
   ]
  },
  {
   "cell_type": "code",
   "execution_count": null,
   "metadata": {},
   "outputs": [],
   "source": [
    "test_pred = pipe.predict_proba(Test_X)\n",
    "test_pred"
   ]
  },
  {
   "cell_type": "code",
   "execution_count": null,
   "metadata": {},
   "outputs": [],
   "source": [
    "submission_df = pd.read_csv('submission_format.csv')"
   ]
  },
  {
   "cell_type": "code",
   "execution_count": null,
   "metadata": {},
   "outputs": [],
   "source": [
    "submission_df[\"h1n1_vaccine\"] = test_pred[0][:, 1]\n",
    "submission_df[\"seasonal_vaccine\"] = test_pred[1][:, 1]\n",
    "\n",
    "submission_df.head()\n"
   ]
  },
  {
   "cell_type": "code",
   "execution_count": null,
   "metadata": {},
   "outputs": [],
   "source": [
    "submission_df.to_csv('my_submission.csv',index=False)"
   ]
  },
  {
   "cell_type": "code",
   "execution_count": null,
   "metadata": {},
   "outputs": [],
   "source": []
  }
 ],
 "metadata": {
  "kernelspec": {
   "display_name": "Python 3",
   "language": "python",
   "name": "python3"
  },
  "language_info": {
   "codemirror_mode": {
    "name": "ipython",
    "version": 3
   },
   "file_extension": ".py",
   "mimetype": "text/x-python",
   "name": "python",
   "nbconvert_exporter": "python",
   "pygments_lexer": "ipython3",
   "version": "3.12.2"
  }
 },
 "nbformat": 4,
 "nbformat_minor": 2
}
